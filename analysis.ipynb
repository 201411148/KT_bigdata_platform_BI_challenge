{
 "cells": [
  {
   "cell_type": "code",
   "execution_count": 1,
   "source": [
    "%matplotlib inline\r\n",
    "\r\n",
    "import numpy as np\r\n",
    "import pandas as pd\r\n",
    "import warnings\r\n",
    "import matplotlib as mpl\r\n",
    "import matplotlib.pyplot as plt\r\n",
    "import matplotlib.font_manager as fm\r\n",
    "from matplotlib.pyplot import *"
   ],
   "outputs": [],
   "metadata": {}
  },
  {
   "cell_type": "code",
   "execution_count": 2,
   "source": [
    "mpl.rc('font', family='Malgun Gothic')\r\n",
    "plt.rc('font', family='Malgun Gothic')\r\n",
    "matplotlib.style.use('fivethirtyeight')\r\n",
    "\r\n",
    "# plt_parameter = {axes.labelsize : , axes.titlesize :, figure.titlesize, xtick.labelsize : , ytick.labelsize, legend.fontsize, legend.title_fontsize}\r\n",
    "# plt.rcParams.update(plt_parameter)"
   ],
   "outputs": [],
   "metadata": {}
  },
  {
   "cell_type": "code",
   "execution_count": 3,
   "source": [
    "from notebook.services.config import ConfigManager\r\n",
    "\r\n",
    "cm = ConfigManager().update('notebook', {'limit_output': 1000000})\r\n",
    "warnings.filterwarnings('ignore')\r\n",
    "pd.set_option('display.max_rows', None)"
   ],
   "outputs": [],
   "metadata": {}
  },
  {
   "cell_type": "code",
   "execution_count": 4,
   "source": [
    "def hide_x_label(ax) :\r\n",
    "    x_axis = ax.axes.get_xaxis()\r\n",
    "    x_label = x_axis.get_label()\r\n",
    "    x_label.set_visible(False)\r\n",
    "    \r\n",
    "def show_height(ax, height_unit, multiply, decimals, font_size = 12) :\r\n",
    "    for a in ax.patches:\r\n",
    "        txt = np.round(a.get_height() * multiply, decimals=decimals) \r\n",
    "\r\n",
    "        anot = txt.astype('str')\r\n",
    "        ax.annotate(anot + height_unit, (a.get_x() +a.get_width()/2, a.get_height() ),\r\n",
    "                    ha='center', va='center', xytext=(0, 10),\r\n",
    "                    textcoords='offset points', fontsize=font_size)"
   ],
   "outputs": [],
   "metadata": {}
  },
  {
   "cell_type": "code",
   "execution_count": 5,
   "source": [
    "kt_startup_or_closing = pd.read_csv(\"KT_BigDataPlatform_dataset/StartupOrClosing_Shop_ver2.csv\")"
   ],
   "outputs": [],
   "metadata": {}
  },
  {
   "cell_type": "code",
   "execution_count": null,
   "source": [
    "kt_startup_or_closing = pd.read_csv(\"KT_BigDataPlatform_dataset/StartupOrClosing_Shop_ver2.csv\")"
   ],
   "outputs": [],
   "metadata": {}
  },
  {
   "cell_type": "code",
   "execution_count": 6,
   "source": [
    "# 음식점의 업종 코드명 리스트\r\n",
    "restaurant_cat = ['커피-음료', '호프-간이주점', '분식전문점', '치킨전문점', '패스트푸드점', '제과점', '양식음식점', '일식음식점', '중식음식점', '한식음식점']"
   ],
   "outputs": [],
   "metadata": {}
  },
  {
   "cell_type": "code",
   "execution_count": null,
   "source": [],
   "outputs": [],
   "metadata": {}
  },
  {
   "cell_type": "code",
   "execution_count": null,
   "source": [],
   "outputs": [],
   "metadata": {}
  },
  {
   "cell_type": "code",
   "execution_count": null,
   "source": [],
   "outputs": [],
   "metadata": {}
  },
  {
   "cell_type": "code",
   "execution_count": null,
   "source": [],
   "outputs": [],
   "metadata": {}
  },
  {
   "cell_type": "code",
   "execution_count": null,
   "source": [],
   "outputs": [],
   "metadata": {}
  },
  {
   "cell_type": "code",
   "execution_count": null,
   "source": [],
   "outputs": [],
   "metadata": {}
  },
  {
   "cell_type": "code",
   "execution_count": null,
   "source": [],
   "outputs": [],
   "metadata": {
    "scrolled": false
   }
  },
  {
   "cell_type": "code",
   "execution_count": null,
   "source": [],
   "outputs": [],
   "metadata": {}
  },
  {
   "cell_type": "code",
   "execution_count": null,
   "source": [],
   "outputs": [],
   "metadata": {}
  },
  {
   "cell_type": "code",
   "execution_count": 7,
   "source": [],
   "outputs": [
    {
     "output_type": "execute_result",
     "data": {
      "text/plain": [
       "1.125"
      ]
     },
     "metadata": {},
     "execution_count": 7
    }
   ],
   "metadata": {}
  },
  {
   "cell_type": "code",
   "execution_count": null,
   "source": [],
   "outputs": [],
   "metadata": {}
  }
 ],
 "metadata": {
  "kernelspec": {
   "display_name": "Python 3",
   "language": "python",
   "name": "python3"
  },
  "language_info": {
   "codemirror_mode": {
    "name": "ipython",
    "version": 3
   },
   "file_extension": ".py",
   "mimetype": "text/x-python",
   "name": "python",
   "nbconvert_exporter": "python",
   "pygments_lexer": "ipython3",
   "version": "3.7.4"
  }
 },
 "nbformat": 4,
 "nbformat_minor": 2
}